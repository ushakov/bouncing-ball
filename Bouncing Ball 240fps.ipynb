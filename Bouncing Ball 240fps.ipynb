{
 "metadata": {
  "name": ""
 },
 "nbformat": 3,
 "nbformat_minor": 0,
 "worksheets": [
  {
   "cells": [
    {
     "cell_type": "markdown",
     "metadata": {},
     "source": [
      "# \u0428\u0430\u0440\u0438\u043a \u0438 \u043e\u0442\u0441\u043a\u043e\u043a - 2\n",
      "\n",
      "\u042f \u043f\u043e\u043a\u0438\u0434\u0430\u043b \u0448\u0430\u0440\u0438\u043a \u0438 \u0441\u043d\u044f\u043b \u044d\u0442\u043e \u0432\u0441\u0451 \u043d\u0430 \u0444\u043e\u0442\u043e\u0430\u043f\u043f\u0430\u0440\u0430\u0442, \u043a\u043e\u0442\u043e\u0440\u044b\u0439 \u0434\u0435\u043b\u0430\u0435\u0442 240 \u043a\u0430\u0434\u0440\u043e\u0432 \u0432 \u0441\u0435\u043a\u0443\u043d\u0434\u0443 (\u0443 \u0412\u0435\u0440\u043a\u0438 \u0432\u0437\u044f\u043b \u0432 \u0434\u043e\u043b\u0433). \u0423 \u043d\u0435\u0433\u043e, \u043f\u0440\u0430\u0432\u0434\u0430, \u043f\u0440\u0438 \u044d\u0442\u043e\u043c \u0440\u0430\u0437\u0440\u0435\u0448\u0435\u043d\u0438\u0435 \u0447\u0443\u0442\u044c \u043b\u0438 \u043d\u0435 320x240, \u043d\u043e \u0432\u0441\u0451 \u0440\u0430\u0432\u043d\u043e \u0438\u043d\u0442\u0435\u0440\u0435\u0441\u043d\u043e.\n",
      "\n",
      "\u0412\u043e\u0442 \u0432\u0438\u0434\u0435\u043e:\n",
      "\n",
      "<iframe width=\"420\" height=\"315\" src=\"https://www.youtube.com/embed/jcn2L4QSDgI\" frameborder=\"0\" allowfullscreen></iframe>\n",
      "\n",
      "\u0412\u043e\u0442 \u0444\u043e\u0442\u043e\u0433\u0440\u0430\u0444\u0438\u0438 \u0441 \u0440\u0430\u0437\u043c\u0435\u0442\u043a\u043e\u0439 (\u0438\u0441\u0442\u0438\u043d\u043d\u044b\u0439 \u0440\u0430\u0437\u043c\u0435\u0440 \u0448\u0430\u0440\u0438\u043a\u0430 68\u043c\u043c, \u0444\u043e\u0442\u043e\u0433\u0440\u0430\u0444\u0438\u0438 \u043d\u0435\u043c\u043d\u043e\u0433\u043e \u0440\u0430\u0441\u0442\u044f\u043d\u0443\u0442\u044b \u0434\u043b\u044f \u044f\u0441\u043d\u043e\u0441\u0442\u0438):\n",
      "\n",
      "### \u043a\u0430\u0434\u0440 1007, \u043c\u0430\u043a\u0441\u0438\u043c\u0443\u043c \u0432\u044b\u0441\u043e\u0442\u044b\n",
      "\n",
      "<img src=\"files/a1007m.png\" width=500>\n",
      "\n",
      "### \u043a\u0430\u0434\u0440 1074, \u043a\u043e\u043d\u0435\u0446 \u0441\u043e\u0443\u0434\u0430\u0440\u0435\u043d\u0438\u044f (\u0432\u0441\u0435\u0433\u043e \u0441\u043e\u0443\u0434\u0430\u0440\u0435\u043d\u0438\u0435 \u0437\u0430\u043d\u044f\u043b\u043e \u0434\u0432\u0430 \u043a\u0430\u0434\u0440\u0430)\n",
      "\n",
      "<img src=\"files/a1074m.png\" width=500>\n",
      "\n",
      "### \u043a\u0430\u0434\u0440 1085, \u043f\u043e\u0441\u043b\u0435 \u043e\u0442\u0441\u043a\u043e\u043a\u0430\n",
      "\n",
      "<img src=\"files/a1085m.png\" width=500>\n"
     ]
    },
    {
     "cell_type": "markdown",
     "metadata": {},
     "source": [
      "\u041c\u0430\u0441\u0448\u0442\u0430\u0431, \u0442\u0430\u043a\u0438\u043c \u043e\u0431\u0440\u0430\u0437\u043e\u043c, \u0432\u044b\u0445\u043e\u0434\u0438\u0442"
     ]
    },
    {
     "cell_type": "code",
     "collapsed": false,
     "input": [
      "scale = 68. / (325 - 157)\n",
      "scale"
     ],
     "language": "python",
     "metadata": {},
     "outputs": [
      {
       "metadata": {},
       "output_type": "pyout",
       "prompt_number": 5,
       "text": [
        "0.40476190476190477"
       ]
      }
     ],
     "prompt_number": 5
    },
    {
     "cell_type": "markdown",
     "metadata": {},
     "source": [
      "(\u043c\u0438\u043b\u043b\u0438\u043c\u0435\u0442\u0440\u043e\u0432 \u0432 \u0442\u043e\u0447\u043a\u0435 \u043a\u0430\u0440\u0442\u0438\u043d\u043a\u0438).\n",
      "\n",
      "\u0422\u0430\u043a\u0438\u043c \u043e\u0431\u0440\u0430\u0437\u043e\u043c, \u0432\u044b\u0441\u043e\u0442\u0430, \u0441 \u043a\u043e\u0442\u043e\u0440\u043e\u0439 \u0448\u0430\u0440\u0438\u043a \u043f\u0430\u0434\u0430\u043b, \u0440\u0430\u0432\u043d\u0430"
     ]
    },
    {
     "cell_type": "code",
     "collapsed": false,
     "input": [
      "h = (1018-157)*scale\n",
      "h"
     ],
     "language": "python",
     "metadata": {},
     "outputs": [
      {
       "metadata": {},
       "output_type": "pyout",
       "prompt_number": 6,
       "text": [
        "348.5"
       ]
      }
     ],
     "prompt_number": 6
    },
    {
     "cell_type": "markdown",
     "metadata": {},
     "source": [
      "\u043c\u0438\u043b\u043b\u0438\u043c\u0435\u0442\u0440\u043e\u0432\n",
      "\n",
      "\u0428\u0430\u0440\u0438\u043a \u043e\u0442\u0441\u043a\u043e\u0447\u0438\u043b \u043d\u0430"
     ]
    },
    {
     "cell_type": "code",
     "collapsed": false,
     "input": [
      "dx = (661 - 553)*scale\n",
      "dx"
     ],
     "language": "python",
     "metadata": {},
     "outputs": [
      {
       "metadata": {},
       "output_type": "pyout",
       "prompt_number": 11,
       "text": [
        "43.714285714285715"
       ]
      }
     ],
     "prompt_number": 11
    },
    {
     "cell_type": "markdown",
     "metadata": {},
     "source": [
      "\u043c\u0438\u043b\u043b\u0438\u043c\u0435\u0442\u0440\u043e\u0432 \u043f\u043e \u0433\u043e\u0440\u0438\u0437\u043e\u043d\u0442\u0430\u043b\u0438 \u0438"
     ]
    },
    {
     "cell_type": "code",
     "collapsed": false,
     "input": [
      "dy = (1018-855)*scale\n",
      "dy"
     ],
     "language": "python",
     "metadata": {},
     "outputs": [
      {
       "metadata": {},
       "output_type": "pyout",
       "prompt_number": 13,
       "text": [
        "65.97619047619048"
       ]
      }
     ],
     "prompt_number": 13
    },
    {
     "cell_type": "markdown",
     "metadata": {},
     "source": [
      "\u043c\u0438\u043b\u043b\u0438\u043c\u0435\u0442\u0440\u043e\u0432 \u043f\u043e \u0432\u0435\u0440\u0442\u0438\u043a\u0430\u043b\u0438. \u0412\u0440\u0435\u043c\u044f \u043e\u0442 \u043a\u043e\u043d\u0446\u0430 \u0441\u043e\u0443\u0434\u0430\u0440\u0435\u043d\u0438\u044f \u0434\u043e \u043f\u043e\u0441\u043b\u0435\u0434\u043d\u0435\u0433\u043e \u043a\u0430\u0434\u0440\u0430"
     ]
    },
    {
     "cell_type": "code",
     "collapsed": false,
     "input": [
      "1085-1075"
     ],
     "language": "python",
     "metadata": {},
     "outputs": [
      {
       "metadata": {},
       "output_type": "pyout",
       "prompt_number": 15,
       "text": [
        "10"
       ]
      }
     ],
     "prompt_number": 15
    },
    {
     "cell_type": "markdown",
     "metadata": {},
     "source": [
      "\u043a\u0430\u0434\u0440\u043e\u0432, \u0438\u043b\u0438 "
     ]
    },
    {
     "cell_type": "code",
     "collapsed": false,
     "input": [
      "dt = (1085 - 1075) / 240.\n",
      "dt"
     ],
     "language": "python",
     "metadata": {},
     "outputs": [
      {
       "metadata": {},
       "output_type": "pyout",
       "prompt_number": 16,
       "text": [
        "0.041666666666666664"
       ]
      }
     ],
     "prompt_number": 16
    },
    {
     "cell_type": "markdown",
     "metadata": {},
     "source": [
      "\u0441\u0435\u043a\u0443\u043d\u0434\u044b. \u0417\u043d\u0430\u0447\u0438\u0442, \u0433\u043e\u0440\u0437\u043e\u043d\u0442\u0430\u043b\u044c\u043d\u044b\u0439 \u0438\u043c\u043f\u0443\u043b\u044c\u0441 \u0448\u0430\u0440\u0438\u043a\u0430 \u0440\u0430\u0432\u0435\u043d $M_h=mdx/dt$, \u0430 \u0432\u0435\u0440\u0442\u0438\u043a\u0430\u043b\u044c\u043d\u044b\u0439 $M_v=mdy/dt$. \u0412\u0441\u043f\u043e\u043c\u0438\u043d\u0430\u044f, \u0447\u0442\u043e $M_h = k(M_0 + M_v)$, \u0430 $M_0 = m\\sqrt{2gh}$, \u043f\u043e\u043b\u0443\u0447\u0430\u0435\u043c $$\\frac{mdx}{dt} = k(m\\sqrt{2gh} + \\frac{mdy}{dt})$$, \u0442\u043e \u0435\u0441\u0442\u044c $$dx = k(dt\\sqrt{2gh} + dy)$$, \u0438\u043b\u0438 $$k = \\frac{dx}{dt\\sqrt{2gh} + dy}$$"
     ]
    },
    {
     "cell_type": "code",
     "collapsed": false,
     "input": [
      "import math\n",
      "k = dx / (dt * math.sqrt(2*9.81*h) + dy)\n",
      "k"
     ],
     "language": "python",
     "metadata": {},
     "outputs": [
      {
       "metadata": {},
       "output_type": "pyout",
       "prompt_number": 17,
       "text": [
        "0.6296929443161353"
       ]
      }
     ],
     "prompt_number": 17
    },
    {
     "cell_type": "markdown",
     "metadata": {},
     "source": [
      "\u041d\u0430 \u0432\u0441\u044f\u043a\u0438\u0439 \u0441\u043b\u0443\u0447\u0430\u0439 \u043f\u043e\u0441\u043c\u043e\u0442\u0440\u0438\u043c, \u0432\u0441\u0451 \u043b\u0438 \u0432\u0440\u0435\u043c\u044f \u0442\u0430\u043c \u0431\u044b\u043b\u043e \u043f\u0440\u043e\u0441\u043a\u0430\u043b\u044c\u0437\u044b\u0432\u0430\u043d\u0438\u0435. \u041f\u043e\u0441\u043b\u0435 \u043e\u0442\u0441\u043a\u043e\u043a\u0430 \u0448\u0430\u0440\u0438\u043a \u043f\u043e\u0432\u0435\u0440\u043d\u0443\u043b\u0441\u044f \u043d\u0430 $90^\\circ$ \u0437\u0430 10 \u043a\u0430\u0434\u0440\u043e\u0432, \u0442\u043e \u0435\u0441\u0442\u044c \u0441\u043a\u043e\u0440\u043e\u0441\u0442\u044c \u0432\u0440\u0430\u0449\u0435\u043d\u0438\u044f"
     ]
    },
    {
     "cell_type": "code",
     "collapsed": false,
     "input": [
      "w = math.pi / 2 / (10. / 240)\n",
      "w"
     ],
     "language": "python",
     "metadata": {},
     "outputs": [
      {
       "metadata": {},
       "output_type": "pyout",
       "prompt_number": 19,
       "text": [
        "37.69911184307752"
       ]
      }
     ],
     "prompt_number": 19
    },
    {
     "cell_type": "markdown",
     "metadata": {},
     "source": [
      "\u0440\u0430\u0434\u0438\u0430\u043d \u0432 \u0441\u0435\u043a\u0443\u043d\u0434\u0443. \u0417\u043d\u0430\u0447\u0438\u0442, \u043d\u0438\u0436\u043d\u044f\u044f \u0442\u043e\u0447\u043a\u0430 \u0434\u0432\u0438\u0433\u0430\u043b\u0430\u0441\u044c \u0441\u043e \u0441\u043a\u043e\u0440\u043e\u0441\u0442\u044c\u044e"
     ]
    },
    {
     "cell_type": "code",
     "collapsed": false,
     "input": [
      "w * 68/2"
     ],
     "language": "python",
     "metadata": {},
     "outputs": [
      {
       "metadata": {},
       "output_type": "pyout",
       "prompt_number": 20,
       "text": [
        "1281.7698026646356"
       ]
      }
     ],
     "prompt_number": 20
    },
    {
     "cell_type": "markdown",
     "metadata": {},
     "source": [
      "\u043c\u043c/\u0441. \u0413\u043e\u0440\u0438\u0437\u043e\u043d\u0442\u0430\u043b\u044c\u043d\u0430\u044f \u0441\u043a\u043e\u0440\u043e\u0441\u0442\u044c \u0448\u0430\u0440\u0438\u043a\u0430 \u043f\u043e\u0441\u043b\u0435 \u043e\u0442\u0441\u043a\u043e\u043a\u0430 \u0440\u0430\u0432\u043d\u0430"
     ]
    },
    {
     "cell_type": "code",
     "collapsed": false,
     "input": [
      "dx / dt"
     ],
     "language": "python",
     "metadata": {},
     "outputs": [
      {
       "metadata": {},
       "output_type": "pyout",
       "prompt_number": 21,
       "text": [
        "1049.1428571428573"
       ]
      }
     ],
     "prompt_number": 21
    },
    {
     "cell_type": "markdown",
     "metadata": {},
     "source": [
      "\u0447\u0442\u043e \u0437\u043d\u0430\u0447\u0438\u0442, \u0447\u0442\u043e \u043f\u0440\u043e\u0441\u043a\u0430\u043b\u044c\u0437\u044b\u0432\u0430\u043d\u0438\u0435 \u0441\u043e\u0445\u0440\u0430\u043d\u044f\u043b\u043e\u0441\u044c \u0434\u043e \u0441\u0430\u043c\u043e\u0433\u043e \u043a\u043e\u043d\u0446\u0430!"
     ]
    }
   ],
   "metadata": {}
  }
 ]
}